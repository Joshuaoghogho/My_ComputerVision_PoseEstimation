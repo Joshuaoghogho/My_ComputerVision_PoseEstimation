{
 "cells": [
  {
   "cell_type": "code",
   "execution_count": 1,
   "id": "2be28698",
   "metadata": {},
   "outputs": [],
   "source": [
    "# !pip install msvc-runtime"
   ]
  },
  {
   "cell_type": "code",
   "execution_count": 1,
   "id": "d06f2082",
   "metadata": {},
   "outputs": [
    {
     "name": "stderr",
     "output_type": "stream",
     "text": [
      "ERROR: Could not find a version that satisfies the requirement mediapipe==0.10.8 (from versions: 0.10.13, 0.10.14, 0.10.18, 0.10.20, 0.10.21)\n",
      "ERROR: No matching distribution found for mediapipe==0.10.8\n"
     ]
    }
   ],
   "source": [
    "#https://developers.google.com/mediapipe/solutions/vision/pose_landmarker/\n",
    "!pip install mediapipe==0.10.8"
   ]
  },
  {
   "cell_type": "code",
   "execution_count": 1,
   "id": "a09c7179",
   "metadata": {},
   "outputs": [],
   "source": [
    "import cv2\n",
    "import mediapipe as mp\n",
    "import numpy as np\n",
    "import time"
   ]
  },
  {
   "cell_type": "code",
   "execution_count": 2,
   "id": "e53dacd2",
   "metadata": {},
   "outputs": [
    {
     "data": {
      "text/plain": [
       "'0.10.21'"
      ]
     },
     "execution_count": 2,
     "metadata": {},
     "output_type": "execute_result"
    }
   ],
   "source": [
    "mp.__version__"
   ]
  },
  {
   "cell_type": "code",
   "execution_count": 3,
   "id": "5c01d422",
   "metadata": {},
   "outputs": [
    {
     "data": {
      "text/plain": [
       "'1.26.4'"
      ]
     },
     "execution_count": 3,
     "metadata": {},
     "output_type": "execute_result"
    }
   ],
   "source": [
    "np.__version__"
   ]
  },
  {
   "cell_type": "code",
   "execution_count": 4,
   "id": "74b0f280",
   "metadata": {},
   "outputs": [],
   "source": [
    "mp_drawing=mp.solutions.drawing_utils\n",
    "mp_pose=mp.solutions.pose"
   ]
  },
  {
   "cell_type": "code",
   "execution_count": null,
   "id": "98e902c6",
   "metadata": {},
   "outputs": [],
   "source": [
    "#Video feed --> press q to close the video feed\n",
    "cap=cv2.VideoCapture(0)\n",
    "while True:\n",
    "    ret,frame=cap.read()\n",
    "    cv2.imshow(\"Video Feed\", frame)\n",
    "    if cv2.waitKey(10) & 0xFF == ord('q'):\n",
    "        break\n",
    "        \n",
    "cap.release()\n",
    "cv2.destroyAllWindows()    "
   ]
  },
  {
   "cell_type": "code",
   "execution_count": null,
   "id": "0f3cb7af-e0c1-4ee9-94b9-4f26a7efa87c",
   "metadata": {},
   "outputs": [],
   "source": [
    "# make detections\n",
    "# Open webcam\n",
    "cap = cv2.VideoCapture(0)\n",
    "\n",
    "with mp_pose.Pose(min_detection_confidence=0.5, min_tracking_confidence=0.5) as pose:\n",
    "    while True:\n",
    "        ret, frame = cap.read()\n",
    "        if not ret:\n",
    "            break\n",
    "        \n",
    "        # Convert the BGR image to RGB for MediaPipe processing\n",
    "        image_rgb = cv2.cvtColor(frame, cv2.COLOR_BGR2RGB)\n",
    "        image_rgb.flags.writeable = False\n",
    "\n",
    "        # Make pose detection\n",
    "        result = pose.process(image_rgb)\n",
    "\n",
    "        # Convert image back to BGR to display\n",
    "        frame.flags.writeable = True\n",
    "        image_bgr = cv2.cvtColor(image_rgb, cv2.COLOR_RGB2BGR)\n",
    "\n",
    "        # Draw pose landmarks if found\n",
    "        if result.pose_landmarks:\n",
    "            mp_drawing.draw_landmarks(\n",
    "                image_bgr,\n",
    "                result.pose_landmarks,\n",
    "                mp_pose.POSE_CONNECTIONS,\n",
    "                mp_drawing.DrawingSpec(color=(250, 100, 50), thickness=2, circle_radius=2),\n",
    "                mp_drawing.DrawingSpec(color=(100, 250, 50), thickness=2, circle_radius=2)\n",
    "            )\n",
    "\n",
    "        # Show the final frame\n",
    "        cv2.imshow(\"Video Feed\", image_bgr)\n",
    "\n",
    "        if cv2.waitKey(10) & 0xFF == ord('q'):\n",
    "            break\n",
    "\n",
    "# Release resources\n",
    "cap.release()\n",
    "cv2.destroyAllWindows()"
   ]
  },
  {
   "cell_type": "code",
   "execution_count": null,
   "id": "a79210f3-e66b-4f74-8203-8f0e89f098d8",
   "metadata": {},
   "outputs": [],
   "source": [
    "\n",
    "# make detections\n",
    "# Open webcam\n",
    "#WITH MY NAME JOSHUA\n",
    "# Initialize MediaPipe Pose and Drawing modules\n",
    "mp_pose = mp.solutions.pose\n",
    "mp_drawing = mp.solutions.drawing_utils\n",
    "\n",
    "# Open webcam\n",
    "cap = cv2.VideoCapture(0)\n",
    "\n",
    "with mp_pose.Pose(min_detection_confidence=0.5, min_tracking_confidence=0.5) as pose:\n",
    "    while True:\n",
    "        ret, frame = cap.read()\n",
    "        if not ret:\n",
    "            break\n",
    "\n",
    "        # Convert the BGR image to RGB for MediaPipe processing\n",
    "        image_rgb = cv2.cvtColor(frame, cv2.COLOR_BGR2RGB)\n",
    "        image_rgb.flags.writeable = False\n",
    "\n",
    "        # Make pose detection\n",
    "        result = pose.process(image_rgb)\n",
    "\n",
    "        # Convert image back to BGR to display\n",
    "        frame.flags.writeable = True\n",
    "        image_bgr = cv2.cvtColor(image_rgb, cv2.COLOR_RGB2BGR)\n",
    "\n",
    "        # Draw pose landmarks if found\n",
    "        if result.pose_landmarks:\n",
    "            mp_drawing.draw_landmarks(\n",
    "                image_bgr,\n",
    "                result.pose_landmarks,\n",
    "                mp_pose.POSE_CONNECTIONS,\n",
    "                mp_drawing.DrawingSpec(color=(250, 100, 50), thickness=2, circle_radius=2),\n",
    "                mp_drawing.DrawingSpec(color=(100, 250, 50), thickness=2, circle_radius=2)\n",
    "            )\n",
    "\n",
    "        # Add your name to the frame\n",
    "        cv2.putText(\n",
    "            image_bgr,\n",
    "            \"Full image of Joshua\",\n",
    "            (10, 30),  # Position (x, y)\n",
    "            cv2.FONT_HERSHEY_SIMPLEX,\n",
    "            1,  # Font scale\n",
    "            (0, 255, 255),  # Text color (Yellow)\n",
    "            2  # Thickness\n",
    "        )\n",
    "\n",
    "        # Show the final frame\n",
    "        cv2.imshow(\"Video Feed\", image_bgr)\n",
    "\n",
    "        if cv2.waitKey(10) & 0xFF == ord('q'):\n",
    "            break\n",
    "\n",
    "# Release resources\n",
    "cap.release()\n",
    "cv2.destroyAllWindows()\n"
   ]
  },
  {
   "cell_type": "code",
   "execution_count": 5,
   "id": "467d092c",
   "metadata": {},
   "outputs": [
    {
     "data": {
      "text/plain": [
       "\u001b[1;31mSignature:\u001b[0m\n",
       "\u001b[0mmp_drawing\u001b[0m\u001b[1;33m.\u001b[0m\u001b[0mdraw_landmarks\u001b[0m\u001b[1;33m(\u001b[0m\u001b[1;33m\n",
       "\u001b[0m    \u001b[0mimage\u001b[0m\u001b[1;33m:\u001b[0m \u001b[0mnumpy\u001b[0m\u001b[1;33m.\u001b[0m\u001b[0mndarray\u001b[0m\u001b[1;33m,\u001b[0m\u001b[1;33m\n",
       "\u001b[0m    \u001b[0mlandmark_list\u001b[0m\u001b[1;33m:\u001b[0m \u001b[0mmediapipe\u001b[0m\u001b[1;33m.\u001b[0m\u001b[0mframework\u001b[0m\u001b[1;33m.\u001b[0m\u001b[0mformats\u001b[0m\u001b[1;33m.\u001b[0m\u001b[0mlandmark_pb2\u001b[0m\u001b[1;33m.\u001b[0m\u001b[0mNormalizedLandmarkList\u001b[0m\u001b[1;33m,\u001b[0m\u001b[1;33m\n",
       "\u001b[0m    \u001b[0mconnections\u001b[0m\u001b[1;33m:\u001b[0m \u001b[0mOptional\u001b[0m\u001b[1;33m[\u001b[0m\u001b[0mList\u001b[0m\u001b[1;33m[\u001b[0m\u001b[0mTuple\u001b[0m\u001b[1;33m[\u001b[0m\u001b[0mint\u001b[0m\u001b[1;33m,\u001b[0m \u001b[0mint\u001b[0m\u001b[1;33m]\u001b[0m\u001b[1;33m]\u001b[0m\u001b[1;33m]\u001b[0m \u001b[1;33m=\u001b[0m \u001b[1;32mNone\u001b[0m\u001b[1;33m,\u001b[0m\u001b[1;33m\n",
       "\u001b[0m    \u001b[0mlandmark_drawing_spec\u001b[0m\u001b[1;33m:\u001b[0m \u001b[0mUnion\u001b[0m\u001b[1;33m[\u001b[0m\u001b[0mmediapipe\u001b[0m\u001b[1;33m.\u001b[0m\u001b[0mpython\u001b[0m\u001b[1;33m.\u001b[0m\u001b[0msolutions\u001b[0m\u001b[1;33m.\u001b[0m\u001b[0mdrawing_utils\u001b[0m\u001b[1;33m.\u001b[0m\u001b[0mDrawingSpec\u001b[0m\u001b[1;33m,\u001b[0m \u001b[0mMapping\u001b[0m\u001b[1;33m[\u001b[0m\u001b[0mint\u001b[0m\u001b[1;33m,\u001b[0m \u001b[0mmediapipe\u001b[0m\u001b[1;33m.\u001b[0m\u001b[0mpython\u001b[0m\u001b[1;33m.\u001b[0m\u001b[0msolutions\u001b[0m\u001b[1;33m.\u001b[0m\u001b[0mdrawing_utils\u001b[0m\u001b[1;33m.\u001b[0m\u001b[0mDrawingSpec\u001b[0m\u001b[1;33m]\u001b[0m\u001b[1;33m,\u001b[0m \u001b[0mNoneType\u001b[0m\u001b[1;33m]\u001b[0m \u001b[1;33m=\u001b[0m \u001b[0mDrawingSpec\u001b[0m\u001b[1;33m(\u001b[0m\u001b[0mcolor\u001b[0m\u001b[1;33m=\u001b[0m\u001b[1;33m(\u001b[0m\u001b[1;36m0\u001b[0m\u001b[1;33m,\u001b[0m \u001b[1;36m0\u001b[0m\u001b[1;33m,\u001b[0m \u001b[1;36m255\u001b[0m\u001b[1;33m)\u001b[0m\u001b[1;33m,\u001b[0m \u001b[0mthickness\u001b[0m\u001b[1;33m=\u001b[0m\u001b[1;36m2\u001b[0m\u001b[1;33m,\u001b[0m \u001b[0mcircle_radius\u001b[0m\u001b[1;33m=\u001b[0m\u001b[1;36m2\u001b[0m\u001b[1;33m)\u001b[0m\u001b[1;33m,\u001b[0m\u001b[1;33m\n",
       "\u001b[0m    \u001b[0mconnection_drawing_spec\u001b[0m\u001b[1;33m:\u001b[0m \u001b[0mUnion\u001b[0m\u001b[1;33m[\u001b[0m\u001b[0mmediapipe\u001b[0m\u001b[1;33m.\u001b[0m\u001b[0mpython\u001b[0m\u001b[1;33m.\u001b[0m\u001b[0msolutions\u001b[0m\u001b[1;33m.\u001b[0m\u001b[0mdrawing_utils\u001b[0m\u001b[1;33m.\u001b[0m\u001b[0mDrawingSpec\u001b[0m\u001b[1;33m,\u001b[0m \u001b[0mMapping\u001b[0m\u001b[1;33m[\u001b[0m\u001b[0mTuple\u001b[0m\u001b[1;33m[\u001b[0m\u001b[0mint\u001b[0m\u001b[1;33m,\u001b[0m \u001b[0mint\u001b[0m\u001b[1;33m]\u001b[0m\u001b[1;33m,\u001b[0m \u001b[0mmediapipe\u001b[0m\u001b[1;33m.\u001b[0m\u001b[0mpython\u001b[0m\u001b[1;33m.\u001b[0m\u001b[0msolutions\u001b[0m\u001b[1;33m.\u001b[0m\u001b[0mdrawing_utils\u001b[0m\u001b[1;33m.\u001b[0m\u001b[0mDrawingSpec\u001b[0m\u001b[1;33m]\u001b[0m\u001b[1;33m]\u001b[0m \u001b[1;33m=\u001b[0m \u001b[0mDrawingSpec\u001b[0m\u001b[1;33m(\u001b[0m\u001b[0mcolor\u001b[0m\u001b[1;33m=\u001b[0m\u001b[1;33m(\u001b[0m\u001b[1;36m224\u001b[0m\u001b[1;33m,\u001b[0m \u001b[1;36m224\u001b[0m\u001b[1;33m,\u001b[0m \u001b[1;36m224\u001b[0m\u001b[1;33m)\u001b[0m\u001b[1;33m,\u001b[0m \u001b[0mthickness\u001b[0m\u001b[1;33m=\u001b[0m\u001b[1;36m2\u001b[0m\u001b[1;33m,\u001b[0m \u001b[0mcircle_radius\u001b[0m\u001b[1;33m=\u001b[0m\u001b[1;36m2\u001b[0m\u001b[1;33m)\u001b[0m\u001b[1;33m,\u001b[0m\u001b[1;33m\n",
       "\u001b[0m    \u001b[0mis_drawing_landmarks\u001b[0m\u001b[1;33m:\u001b[0m \u001b[0mbool\u001b[0m \u001b[1;33m=\u001b[0m \u001b[1;32mTrue\u001b[0m\u001b[1;33m,\u001b[0m\u001b[1;33m\n",
       "\u001b[0m\u001b[1;33m)\u001b[0m\u001b[1;33m\u001b[0m\u001b[1;33m\u001b[0m\u001b[0m\n",
       "\u001b[1;31mSource:\u001b[0m   \n",
       "\u001b[1;32mdef\u001b[0m \u001b[0mdraw_landmarks\u001b[0m\u001b[1;33m(\u001b[0m\u001b[1;33m\n",
       "\u001b[0m    \u001b[0mimage\u001b[0m\u001b[1;33m:\u001b[0m \u001b[0mnp\u001b[0m\u001b[1;33m.\u001b[0m\u001b[0mndarray\u001b[0m\u001b[1;33m,\u001b[0m\u001b[1;33m\n",
       "\u001b[0m    \u001b[0mlandmark_list\u001b[0m\u001b[1;33m:\u001b[0m \u001b[0mlandmark_pb2\u001b[0m\u001b[1;33m.\u001b[0m\u001b[0mNormalizedLandmarkList\u001b[0m\u001b[1;33m,\u001b[0m\u001b[1;33m\n",
       "\u001b[0m    \u001b[0mconnections\u001b[0m\u001b[1;33m:\u001b[0m \u001b[0mOptional\u001b[0m\u001b[1;33m[\u001b[0m\u001b[0mList\u001b[0m\u001b[1;33m[\u001b[0m\u001b[0mTuple\u001b[0m\u001b[1;33m[\u001b[0m\u001b[0mint\u001b[0m\u001b[1;33m,\u001b[0m \u001b[0mint\u001b[0m\u001b[1;33m]\u001b[0m\u001b[1;33m]\u001b[0m\u001b[1;33m]\u001b[0m \u001b[1;33m=\u001b[0m \u001b[1;32mNone\u001b[0m\u001b[1;33m,\u001b[0m\u001b[1;33m\n",
       "\u001b[0m    \u001b[0mlandmark_drawing_spec\u001b[0m\u001b[1;33m:\u001b[0m \u001b[0mOptional\u001b[0m\u001b[1;33m[\u001b[0m\u001b[1;33m\n",
       "\u001b[0m        \u001b[0mUnion\u001b[0m\u001b[1;33m[\u001b[0m\u001b[0mDrawingSpec\u001b[0m\u001b[1;33m,\u001b[0m \u001b[0mMapping\u001b[0m\u001b[1;33m[\u001b[0m\u001b[0mint\u001b[0m\u001b[1;33m,\u001b[0m \u001b[0mDrawingSpec\u001b[0m\u001b[1;33m]\u001b[0m\u001b[1;33m]\u001b[0m\u001b[1;33m\n",
       "\u001b[0m    \u001b[1;33m]\u001b[0m \u001b[1;33m=\u001b[0m \u001b[0mDrawingSpec\u001b[0m\u001b[1;33m(\u001b[0m\u001b[0mcolor\u001b[0m\u001b[1;33m=\u001b[0m\u001b[0mRED_COLOR\u001b[0m\u001b[1;33m)\u001b[0m\u001b[1;33m,\u001b[0m\u001b[1;33m\n",
       "\u001b[0m    \u001b[0mconnection_drawing_spec\u001b[0m\u001b[1;33m:\u001b[0m \u001b[0mUnion\u001b[0m\u001b[1;33m[\u001b[0m\u001b[1;33m\n",
       "\u001b[0m        \u001b[0mDrawingSpec\u001b[0m\u001b[1;33m,\u001b[0m \u001b[0mMapping\u001b[0m\u001b[1;33m[\u001b[0m\u001b[0mTuple\u001b[0m\u001b[1;33m[\u001b[0m\u001b[0mint\u001b[0m\u001b[1;33m,\u001b[0m \u001b[0mint\u001b[0m\u001b[1;33m]\u001b[0m\u001b[1;33m,\u001b[0m \u001b[0mDrawingSpec\u001b[0m\u001b[1;33m]\u001b[0m\u001b[1;33m\n",
       "\u001b[0m    \u001b[1;33m]\u001b[0m \u001b[1;33m=\u001b[0m \u001b[0mDrawingSpec\u001b[0m\u001b[1;33m(\u001b[0m\u001b[1;33m)\u001b[0m\u001b[1;33m,\u001b[0m\u001b[1;33m\n",
       "\u001b[0m    \u001b[0mis_drawing_landmarks\u001b[0m\u001b[1;33m:\u001b[0m \u001b[0mbool\u001b[0m \u001b[1;33m=\u001b[0m \u001b[1;32mTrue\u001b[0m\u001b[1;33m,\u001b[0m\u001b[1;33m\n",
       "\u001b[0m\u001b[1;33m)\u001b[0m\u001b[1;33m:\u001b[0m\u001b[1;33m\n",
       "\u001b[0m  \u001b[1;34m\"\"\"Draws the landmarks and the connections on the image.\n",
       "\n",
       "  Args:\n",
       "    image: A three channel BGR image represented as numpy ndarray.\n",
       "    landmark_list: A normalized landmark list proto message to be annotated on\n",
       "      the image.\n",
       "    connections: A list of landmark index tuples that specifies how landmarks to\n",
       "      be connected in the drawing.\n",
       "    landmark_drawing_spec: Either a DrawingSpec object or a mapping from hand\n",
       "      landmarks to the DrawingSpecs that specifies the landmarks' drawing\n",
       "      settings such as color, line thickness, and circle radius. If this\n",
       "      argument is explicitly set to None, no landmarks will be drawn.\n",
       "    connection_drawing_spec: Either a DrawingSpec object or a mapping from hand\n",
       "      connections to the DrawingSpecs that specifies the connections' drawing\n",
       "      settings such as color and line thickness. If this argument is explicitly\n",
       "      set to None, no landmark connections will be drawn.\n",
       "    is_drawing_landmarks: Whether to draw landmarks. If set false, skip drawing\n",
       "      landmarks, only contours will be drawed.\n",
       "\n",
       "  Raises:\n",
       "    ValueError: If one of the followings:\n",
       "      a) If the input image is not three channel BGR.\n",
       "      b) If any connetions contain invalid landmark index.\n",
       "  \"\"\"\u001b[0m\u001b[1;33m\n",
       "\u001b[0m  \u001b[1;32mif\u001b[0m \u001b[1;32mnot\u001b[0m \u001b[0mlandmark_list\u001b[0m\u001b[1;33m:\u001b[0m\u001b[1;33m\n",
       "\u001b[0m    \u001b[1;32mreturn\u001b[0m\u001b[1;33m\n",
       "\u001b[0m  \u001b[1;32mif\u001b[0m \u001b[0mimage\u001b[0m\u001b[1;33m.\u001b[0m\u001b[0mshape\u001b[0m\u001b[1;33m[\u001b[0m\u001b[1;36m2\u001b[0m\u001b[1;33m]\u001b[0m \u001b[1;33m!=\u001b[0m \u001b[0m_BGR_CHANNELS\u001b[0m\u001b[1;33m:\u001b[0m\u001b[1;33m\n",
       "\u001b[0m    \u001b[1;32mraise\u001b[0m \u001b[0mValueError\u001b[0m\u001b[1;33m(\u001b[0m\u001b[1;34m'Input image must contain three channel bgr data.'\u001b[0m\u001b[1;33m)\u001b[0m\u001b[1;33m\n",
       "\u001b[0m  \u001b[0mimage_rows\u001b[0m\u001b[1;33m,\u001b[0m \u001b[0mimage_cols\u001b[0m\u001b[1;33m,\u001b[0m \u001b[0m_\u001b[0m \u001b[1;33m=\u001b[0m \u001b[0mimage\u001b[0m\u001b[1;33m.\u001b[0m\u001b[0mshape\u001b[0m\u001b[1;33m\n",
       "\u001b[0m  \u001b[0midx_to_coordinates\u001b[0m \u001b[1;33m=\u001b[0m \u001b[1;33m{\u001b[0m\u001b[1;33m}\u001b[0m\u001b[1;33m\n",
       "\u001b[0m  \u001b[1;32mfor\u001b[0m \u001b[0midx\u001b[0m\u001b[1;33m,\u001b[0m \u001b[0mlandmark\u001b[0m \u001b[1;32min\u001b[0m \u001b[0menumerate\u001b[0m\u001b[1;33m(\u001b[0m\u001b[0mlandmark_list\u001b[0m\u001b[1;33m.\u001b[0m\u001b[0mlandmark\u001b[0m\u001b[1;33m)\u001b[0m\u001b[1;33m:\u001b[0m\u001b[1;33m\n",
       "\u001b[0m    \u001b[1;32mif\u001b[0m \u001b[1;33m(\u001b[0m\u001b[1;33m(\u001b[0m\u001b[0mlandmark\u001b[0m\u001b[1;33m.\u001b[0m\u001b[0mHasField\u001b[0m\u001b[1;33m(\u001b[0m\u001b[1;34m'visibility'\u001b[0m\u001b[1;33m)\u001b[0m \u001b[1;32mand\u001b[0m\u001b[1;33m\n",
       "\u001b[0m         \u001b[0mlandmark\u001b[0m\u001b[1;33m.\u001b[0m\u001b[0mvisibility\u001b[0m \u001b[1;33m<\u001b[0m \u001b[0m_VISIBILITY_THRESHOLD\u001b[0m\u001b[1;33m)\u001b[0m \u001b[1;32mor\u001b[0m\u001b[1;33m\n",
       "\u001b[0m        \u001b[1;33m(\u001b[0m\u001b[0mlandmark\u001b[0m\u001b[1;33m.\u001b[0m\u001b[0mHasField\u001b[0m\u001b[1;33m(\u001b[0m\u001b[1;34m'presence'\u001b[0m\u001b[1;33m)\u001b[0m \u001b[1;32mand\u001b[0m\u001b[1;33m\n",
       "\u001b[0m         \u001b[0mlandmark\u001b[0m\u001b[1;33m.\u001b[0m\u001b[0mpresence\u001b[0m \u001b[1;33m<\u001b[0m \u001b[0m_PRESENCE_THRESHOLD\u001b[0m\u001b[1;33m)\u001b[0m\u001b[1;33m)\u001b[0m\u001b[1;33m:\u001b[0m\u001b[1;33m\n",
       "\u001b[0m      \u001b[1;32mcontinue\u001b[0m\u001b[1;33m\n",
       "\u001b[0m    \u001b[0mlandmark_px\u001b[0m \u001b[1;33m=\u001b[0m \u001b[0m_normalized_to_pixel_coordinates\u001b[0m\u001b[1;33m(\u001b[0m\u001b[0mlandmark\u001b[0m\u001b[1;33m.\u001b[0m\u001b[0mx\u001b[0m\u001b[1;33m,\u001b[0m \u001b[0mlandmark\u001b[0m\u001b[1;33m.\u001b[0m\u001b[0my\u001b[0m\u001b[1;33m,\u001b[0m\u001b[1;33m\n",
       "\u001b[0m                                                   \u001b[0mimage_cols\u001b[0m\u001b[1;33m,\u001b[0m \u001b[0mimage_rows\u001b[0m\u001b[1;33m)\u001b[0m\u001b[1;33m\n",
       "\u001b[0m    \u001b[1;32mif\u001b[0m \u001b[0mlandmark_px\u001b[0m\u001b[1;33m:\u001b[0m\u001b[1;33m\n",
       "\u001b[0m      \u001b[0midx_to_coordinates\u001b[0m\u001b[1;33m[\u001b[0m\u001b[0midx\u001b[0m\u001b[1;33m]\u001b[0m \u001b[1;33m=\u001b[0m \u001b[0mlandmark_px\u001b[0m\u001b[1;33m\n",
       "\u001b[0m  \u001b[1;32mif\u001b[0m \u001b[0mconnections\u001b[0m\u001b[1;33m:\u001b[0m\u001b[1;33m\n",
       "\u001b[0m    \u001b[0mnum_landmarks\u001b[0m \u001b[1;33m=\u001b[0m \u001b[0mlen\u001b[0m\u001b[1;33m(\u001b[0m\u001b[0mlandmark_list\u001b[0m\u001b[1;33m.\u001b[0m\u001b[0mlandmark\u001b[0m\u001b[1;33m)\u001b[0m\u001b[1;33m\n",
       "\u001b[0m    \u001b[1;31m# Draws the connections if the start and end landmarks are both visible.\u001b[0m\u001b[1;33m\n",
       "\u001b[0m    \u001b[1;32mfor\u001b[0m \u001b[0mconnection\u001b[0m \u001b[1;32min\u001b[0m \u001b[0mconnections\u001b[0m\u001b[1;33m:\u001b[0m\u001b[1;33m\n",
       "\u001b[0m      \u001b[0mstart_idx\u001b[0m \u001b[1;33m=\u001b[0m \u001b[0mconnection\u001b[0m\u001b[1;33m[\u001b[0m\u001b[1;36m0\u001b[0m\u001b[1;33m]\u001b[0m\u001b[1;33m\n",
       "\u001b[0m      \u001b[0mend_idx\u001b[0m \u001b[1;33m=\u001b[0m \u001b[0mconnection\u001b[0m\u001b[1;33m[\u001b[0m\u001b[1;36m1\u001b[0m\u001b[1;33m]\u001b[0m\u001b[1;33m\n",
       "\u001b[0m      \u001b[1;32mif\u001b[0m \u001b[1;32mnot\u001b[0m \u001b[1;33m(\u001b[0m\u001b[1;36m0\u001b[0m \u001b[1;33m<=\u001b[0m \u001b[0mstart_idx\u001b[0m \u001b[1;33m<\u001b[0m \u001b[0mnum_landmarks\u001b[0m \u001b[1;32mand\u001b[0m \u001b[1;36m0\u001b[0m \u001b[1;33m<=\u001b[0m \u001b[0mend_idx\u001b[0m \u001b[1;33m<\u001b[0m \u001b[0mnum_landmarks\u001b[0m\u001b[1;33m)\u001b[0m\u001b[1;33m:\u001b[0m\u001b[1;33m\n",
       "\u001b[0m        \u001b[1;32mraise\u001b[0m \u001b[0mValueError\u001b[0m\u001b[1;33m(\u001b[0m\u001b[1;33mf'\u001b[0m\u001b[1;33mLandmark index is out of range. Invalid connection \u001b[0m\u001b[1;33m'\u001b[0m\u001b[1;33m\n",
       "\u001b[0m                         \u001b[1;33mf'\u001b[0m\u001b[1;33mfrom landmark #\u001b[0m\u001b[1;33m{\u001b[0m\u001b[0mstart_idx\u001b[0m\u001b[1;33m}\u001b[0m\u001b[1;33m to landmark #\u001b[0m\u001b[1;33m{\u001b[0m\u001b[0mend_idx\u001b[0m\u001b[1;33m}\u001b[0m\u001b[1;33m.\u001b[0m\u001b[1;33m'\u001b[0m\u001b[1;33m)\u001b[0m\u001b[1;33m\n",
       "\u001b[0m      \u001b[1;32mif\u001b[0m \u001b[0mstart_idx\u001b[0m \u001b[1;32min\u001b[0m \u001b[0midx_to_coordinates\u001b[0m \u001b[1;32mand\u001b[0m \u001b[0mend_idx\u001b[0m \u001b[1;32min\u001b[0m \u001b[0midx_to_coordinates\u001b[0m\u001b[1;33m:\u001b[0m\u001b[1;33m\n",
       "\u001b[0m        \u001b[0mdrawing_spec\u001b[0m \u001b[1;33m=\u001b[0m \u001b[0mconnection_drawing_spec\u001b[0m\u001b[1;33m[\u001b[0m\u001b[0mconnection\u001b[0m\u001b[1;33m]\u001b[0m \u001b[1;32mif\u001b[0m \u001b[0misinstance\u001b[0m\u001b[1;33m(\u001b[0m\u001b[1;33m\n",
       "\u001b[0m            \u001b[0mconnection_drawing_spec\u001b[0m\u001b[1;33m,\u001b[0m \u001b[0mMapping\u001b[0m\u001b[1;33m)\u001b[0m \u001b[1;32melse\u001b[0m \u001b[0mconnection_drawing_spec\u001b[0m\u001b[1;33m\n",
       "\u001b[0m        \u001b[0mcv2\u001b[0m\u001b[1;33m.\u001b[0m\u001b[0mline\u001b[0m\u001b[1;33m(\u001b[0m\u001b[0mimage\u001b[0m\u001b[1;33m,\u001b[0m \u001b[0midx_to_coordinates\u001b[0m\u001b[1;33m[\u001b[0m\u001b[0mstart_idx\u001b[0m\u001b[1;33m]\u001b[0m\u001b[1;33m,\u001b[0m\u001b[1;33m\n",
       "\u001b[0m                 \u001b[0midx_to_coordinates\u001b[0m\u001b[1;33m[\u001b[0m\u001b[0mend_idx\u001b[0m\u001b[1;33m]\u001b[0m\u001b[1;33m,\u001b[0m \u001b[0mdrawing_spec\u001b[0m\u001b[1;33m.\u001b[0m\u001b[0mcolor\u001b[0m\u001b[1;33m,\u001b[0m\u001b[1;33m\n",
       "\u001b[0m                 \u001b[0mdrawing_spec\u001b[0m\u001b[1;33m.\u001b[0m\u001b[0mthickness\u001b[0m\u001b[1;33m)\u001b[0m\u001b[1;33m\n",
       "\u001b[0m  \u001b[1;31m# Draws landmark points after finishing the connection lines, which is\u001b[0m\u001b[1;33m\n",
       "\u001b[0m  \u001b[1;31m# aesthetically better.\u001b[0m\u001b[1;33m\n",
       "\u001b[0m  \u001b[1;32mif\u001b[0m \u001b[0mis_drawing_landmarks\u001b[0m \u001b[1;32mand\u001b[0m \u001b[0mlandmark_drawing_spec\u001b[0m\u001b[1;33m:\u001b[0m\u001b[1;33m\n",
       "\u001b[0m    \u001b[1;32mfor\u001b[0m \u001b[0midx\u001b[0m\u001b[1;33m,\u001b[0m \u001b[0mlandmark_px\u001b[0m \u001b[1;32min\u001b[0m \u001b[0midx_to_coordinates\u001b[0m\u001b[1;33m.\u001b[0m\u001b[0mitems\u001b[0m\u001b[1;33m(\u001b[0m\u001b[1;33m)\u001b[0m\u001b[1;33m:\u001b[0m\u001b[1;33m\n",
       "\u001b[0m      \u001b[0mdrawing_spec\u001b[0m \u001b[1;33m=\u001b[0m \u001b[0mlandmark_drawing_spec\u001b[0m\u001b[1;33m[\u001b[0m\u001b[0midx\u001b[0m\u001b[1;33m]\u001b[0m \u001b[1;32mif\u001b[0m \u001b[0misinstance\u001b[0m\u001b[1;33m(\u001b[0m\u001b[1;33m\n",
       "\u001b[0m          \u001b[0mlandmark_drawing_spec\u001b[0m\u001b[1;33m,\u001b[0m \u001b[0mMapping\u001b[0m\u001b[1;33m)\u001b[0m \u001b[1;32melse\u001b[0m \u001b[0mlandmark_drawing_spec\u001b[0m\u001b[1;33m\n",
       "\u001b[0m      \u001b[1;31m# White circle border\u001b[0m\u001b[1;33m\n",
       "\u001b[0m      \u001b[0mcircle_border_radius\u001b[0m \u001b[1;33m=\u001b[0m \u001b[0mmax\u001b[0m\u001b[1;33m(\u001b[0m\u001b[0mdrawing_spec\u001b[0m\u001b[1;33m.\u001b[0m\u001b[0mcircle_radius\u001b[0m \u001b[1;33m+\u001b[0m \u001b[1;36m1\u001b[0m\u001b[1;33m,\u001b[0m\u001b[1;33m\n",
       "\u001b[0m                                 \u001b[0mint\u001b[0m\u001b[1;33m(\u001b[0m\u001b[0mdrawing_spec\u001b[0m\u001b[1;33m.\u001b[0m\u001b[0mcircle_radius\u001b[0m \u001b[1;33m*\u001b[0m \u001b[1;36m1.2\u001b[0m\u001b[1;33m)\u001b[0m\u001b[1;33m)\u001b[0m\u001b[1;33m\n",
       "\u001b[0m      \u001b[0mcv2\u001b[0m\u001b[1;33m.\u001b[0m\u001b[0mcircle\u001b[0m\u001b[1;33m(\u001b[0m\u001b[0mimage\u001b[0m\u001b[1;33m,\u001b[0m \u001b[0mlandmark_px\u001b[0m\u001b[1;33m,\u001b[0m \u001b[0mcircle_border_radius\u001b[0m\u001b[1;33m,\u001b[0m \u001b[0mWHITE_COLOR\u001b[0m\u001b[1;33m,\u001b[0m\u001b[1;33m\n",
       "\u001b[0m                 \u001b[0mdrawing_spec\u001b[0m\u001b[1;33m.\u001b[0m\u001b[0mthickness\u001b[0m\u001b[1;33m)\u001b[0m\u001b[1;33m\n",
       "\u001b[0m      \u001b[1;31m# Fill color into the circle\u001b[0m\u001b[1;33m\n",
       "\u001b[0m      \u001b[0mcv2\u001b[0m\u001b[1;33m.\u001b[0m\u001b[0mcircle\u001b[0m\u001b[1;33m(\u001b[0m\u001b[0mimage\u001b[0m\u001b[1;33m,\u001b[0m \u001b[0mlandmark_px\u001b[0m\u001b[1;33m,\u001b[0m \u001b[0mdrawing_spec\u001b[0m\u001b[1;33m.\u001b[0m\u001b[0mcircle_radius\u001b[0m\u001b[1;33m,\u001b[0m\u001b[1;33m\n",
       "\u001b[0m                 \u001b[0mdrawing_spec\u001b[0m\u001b[1;33m.\u001b[0m\u001b[0mcolor\u001b[0m\u001b[1;33m,\u001b[0m \u001b[0mdrawing_spec\u001b[0m\u001b[1;33m.\u001b[0m\u001b[0mthickness\u001b[0m\u001b[1;33m)\u001b[0m\u001b[1;33m\u001b[0m\u001b[1;33m\u001b[0m\u001b[0m\n",
       "\u001b[1;31mFile:\u001b[0m      c:\\users\\hp\\anaconda3\\lib\\site-packages\\mediapipe\\python\\solutions\\drawing_utils.py\n",
       "\u001b[1;31mType:\u001b[0m      function"
      ]
     },
     "metadata": {},
     "output_type": "display_data"
    }
   ],
   "source": [
    "mp_drawing.draw_landmarks??"
   ]
  },
  {
   "cell_type": "code",
   "execution_count": 6,
   "id": "d1262c58",
   "metadata": {},
   "outputs": [
    {
     "data": {
      "text/plain": [
       "\u001b[1;31mInit signature:\u001b[0m\n",
       "\u001b[0mmp_drawing\u001b[0m\u001b[1;33m.\u001b[0m\u001b[0mDrawingSpec\u001b[0m\u001b[1;33m(\u001b[0m\u001b[1;33m\n",
       "\u001b[0m    \u001b[0mcolor\u001b[0m\u001b[1;33m:\u001b[0m \u001b[0mTuple\u001b[0m\u001b[1;33m[\u001b[0m\u001b[0mint\u001b[0m\u001b[1;33m,\u001b[0m \u001b[0mint\u001b[0m\u001b[1;33m,\u001b[0m \u001b[0mint\u001b[0m\u001b[1;33m]\u001b[0m \u001b[1;33m=\u001b[0m \u001b[1;33m(\u001b[0m\u001b[1;36m224\u001b[0m\u001b[1;33m,\u001b[0m \u001b[1;36m224\u001b[0m\u001b[1;33m,\u001b[0m \u001b[1;36m224\u001b[0m\u001b[1;33m)\u001b[0m\u001b[1;33m,\u001b[0m\u001b[1;33m\n",
       "\u001b[0m    \u001b[0mthickness\u001b[0m\u001b[1;33m:\u001b[0m \u001b[0mint\u001b[0m \u001b[1;33m=\u001b[0m \u001b[1;36m2\u001b[0m\u001b[1;33m,\u001b[0m\u001b[1;33m\n",
       "\u001b[0m    \u001b[0mcircle_radius\u001b[0m\u001b[1;33m:\u001b[0m \u001b[0mint\u001b[0m \u001b[1;33m=\u001b[0m \u001b[1;36m2\u001b[0m\u001b[1;33m,\u001b[0m\u001b[1;33m\n",
       "\u001b[0m\u001b[1;33m)\u001b[0m \u001b[1;33m->\u001b[0m \u001b[1;32mNone\u001b[0m\u001b[1;33m\u001b[0m\u001b[1;33m\u001b[0m\u001b[0m\n",
       "\u001b[1;31mDocstring:\u001b[0m      DrawingSpec(color: Tuple[int, int, int] = (224, 224, 224), thickness: int = 2, circle_radius: int = 2)\n",
       "\u001b[1;31mSource:\u001b[0m        \n",
       "\u001b[1;33m@\u001b[0m\u001b[0mdataclasses\u001b[0m\u001b[1;33m.\u001b[0m\u001b[0mdataclass\u001b[0m\u001b[1;33m\n",
       "\u001b[0m\u001b[1;32mclass\u001b[0m \u001b[0mDrawingSpec\u001b[0m\u001b[1;33m:\u001b[0m\u001b[1;33m\n",
       "\u001b[0m  \u001b[1;31m# Color for drawing the annotation. Default to the white color.\u001b[0m\u001b[1;33m\n",
       "\u001b[0m  \u001b[0mcolor\u001b[0m\u001b[1;33m:\u001b[0m \u001b[0mTuple\u001b[0m\u001b[1;33m[\u001b[0m\u001b[0mint\u001b[0m\u001b[1;33m,\u001b[0m \u001b[0mint\u001b[0m\u001b[1;33m,\u001b[0m \u001b[0mint\u001b[0m\u001b[1;33m]\u001b[0m \u001b[1;33m=\u001b[0m \u001b[0mWHITE_COLOR\u001b[0m\u001b[1;33m\n",
       "\u001b[0m  \u001b[1;31m# Thickness for drawing the annotation. Default to 2 pixels.\u001b[0m\u001b[1;33m\n",
       "\u001b[0m  \u001b[0mthickness\u001b[0m\u001b[1;33m:\u001b[0m \u001b[0mint\u001b[0m \u001b[1;33m=\u001b[0m \u001b[1;36m2\u001b[0m\u001b[1;33m\n",
       "\u001b[0m  \u001b[1;31m# Circle radius. Default to 2 pixels.\u001b[0m\u001b[1;33m\n",
       "\u001b[0m  \u001b[0mcircle_radius\u001b[0m\u001b[1;33m:\u001b[0m \u001b[0mint\u001b[0m \u001b[1;33m=\u001b[0m \u001b[1;36m2\u001b[0m\u001b[1;33m\u001b[0m\u001b[1;33m\u001b[0m\u001b[0m\n",
       "\u001b[1;31mFile:\u001b[0m           c:\\users\\hp\\anaconda3\\lib\\site-packages\\mediapipe\\python\\solutions\\drawing_utils.py\n",
       "\u001b[1;31mType:\u001b[0m           type\n",
       "\u001b[1;31mSubclasses:\u001b[0m     "
      ]
     },
     "metadata": {},
     "output_type": "display_data"
    }
   ],
   "source": [
    "mp_drawing.DrawingSpec??"
   ]
  },
  {
   "cell_type": "code",
   "execution_count": 7,
   "id": "a0568875",
   "metadata": {},
   "outputs": [
    {
     "ename": "NameError",
     "evalue": "name 'result' is not defined",
     "output_type": "error",
     "traceback": [
      "\u001b[1;31m---------------------------------------------------------------------------\u001b[0m",
      "\u001b[1;31mNameError\u001b[0m                                 Traceback (most recent call last)",
      "Cell \u001b[1;32mIn[7], line 1\u001b[0m\n\u001b[1;32m----> 1\u001b[0m result\n",
      "\u001b[1;31mNameError\u001b[0m: name 'result' is not defined"
     ]
    }
   ],
   "source": [
    "result"
   ]
  },
  {
   "cell_type": "code",
   "execution_count": 8,
   "id": "80a54852",
   "metadata": {},
   "outputs": [
    {
     "ename": "NameError",
     "evalue": "name 'result' is not defined",
     "output_type": "error",
     "traceback": [
      "\u001b[1;31m---------------------------------------------------------------------------\u001b[0m",
      "\u001b[1;31mNameError\u001b[0m                                 Traceback (most recent call last)",
      "Cell \u001b[1;32mIn[8], line 1\u001b[0m\n\u001b[1;32m----> 1\u001b[0m result\u001b[38;5;241m.\u001b[39mpose_landmarks\n",
      "\u001b[1;31mNameError\u001b[0m: name 'result' is not defined"
     ]
    }
   ],
   "source": [
    "result.pose_landmarks"
   ]
  },
  {
   "cell_type": "code",
   "execution_count": 13,
   "id": "e830304c",
   "metadata": {
    "scrolled": true
   },
   "outputs": [
    {
     "data": {
      "text/plain": [
       "[x: 0.505886197\n",
       "y: 0.501537263\n",
       "z: -1.13098788\n",
       "visibility: 0.999969184\n",
       ", x: 0.530324519\n",
       "y: 0.444506735\n",
       "z: -1.0674603\n",
       "visibility: 0.999907851\n",
       ", x: 0.544152319\n",
       "y: 0.444568604\n",
       "z: -1.06768775\n",
       "visibility: 0.999929786\n",
       ", x: 0.558306694\n",
       "y: 0.445670336\n",
       "z: -1.0676024\n",
       "visibility: 0.999894619\n",
       ", x: 0.480412066\n",
       "y: 0.449863225\n",
       "z: -1.06576\n",
       "visibility: 0.999901593\n",
       ", x: 0.463266194\n",
       "y: 0.453532368\n",
       "z: -1.06516314\n",
       "visibility: 0.999923289\n",
       ", x: 0.447813272\n",
       "y: 0.457584321\n",
       "z: -1.06564891\n",
       "visibility: 0.999898434\n",
       ", x: 0.588115096\n",
       "y: 0.481197476\n",
       "z: -0.659978\n",
       "visibility: 0.999897\n",
       ", x: 0.429656416\n",
       "y: 0.489394575\n",
       "z: -0.634997\n",
       "visibility: 0.999929726\n",
       ", x: 0.54114\n",
       "y: 0.561993659\n",
       "z: -0.977561653\n",
       "visibility: 0.999950945\n",
       ", x: 0.477193445\n",
       "y: 0.566137135\n",
       "z: -0.970947564\n",
       "visibility: 0.999957442\n",
       ", x: 0.751788557\n",
       "y: 0.826149642\n",
       "z: -0.387322\n",
       "visibility: 0.999196112\n",
       ", x: 0.293478072\n",
       "y: 0.823098838\n",
       "z: -0.454533398\n",
       "visibility: 0.999299109\n",
       ", x: 0.821481109\n",
       "y: 1.21895719\n",
       "z: -0.426762491\n",
       "visibility: 0.203367025\n",
       ", x: 0.239263862\n",
       "y: 1.22074282\n",
       "z: -0.441876352\n",
       "visibility: 0.31213516\n",
       ", x: 0.810309887\n",
       "y: 1.54845893\n",
       "z: -0.924489796\n",
       "visibility: 0.121744305\n",
       ", x: 0.247318119\n",
       "y: 1.52641475\n",
       "z: -1.005059\n",
       "visibility: 0.152590662\n",
       ", x: 0.839103878\n",
       "y: 1.66929376\n",
       "z: -1.07674563\n",
       "visibility: 0.131959513\n",
       ", x: 0.219776437\n",
       "y: 1.64050567\n",
       "z: -1.17159545\n",
       "visibility: 0.161504865\n",
       ", x: 0.781565964\n",
       "y: 1.67350268\n",
       "z: -1.15244353\n",
       "visibility: 0.187655494\n",
       ", x: 0.271927029\n",
       "y: 1.64273405\n",
       "z: -1.26833737\n",
       "visibility: 0.258583039\n",
       ", x: 0.761977077\n",
       "y: 1.6207782\n",
       "z: -0.979733467\n",
       "visibility: 0.183106586\n",
       ", x: 0.288676172\n",
       "y: 1.59498215\n",
       "z: -1.0651021\n",
       "visibility: 0.246185467\n",
       ", x: 0.66645658\n",
       "y: 1.54973292\n",
       "z: -0.0495864823\n",
       "visibility: 0.00143949152\n",
       ", x: 0.382446408\n",
       "y: 1.54465568\n",
       "z: 0.0551279\n",
       "visibility: 0.00129539357\n",
       ", x: 0.634070873\n",
       "y: 2.12401628\n",
       "z: 0.036411006\n",
       "visibility: 0.000755395391\n",
       ", x: 0.370456696\n",
       "y: 2.11400604\n",
       "z: 0.000131242516\n",
       "visibility: 0.000191353349\n",
       ", x: 0.627328873\n",
       "y: 2.63556814\n",
       "z: 0.691862702\n",
       "visibility: 4.61053169e-005\n",
       ", x: 0.373111188\n",
       "y: 2.63287354\n",
       "z: 0.506358743\n",
       "visibility: 5.17967146e-006\n",
       ", x: 0.633985162\n",
       "y: 2.73521852\n",
       "z: 0.721646309\n",
       "visibility: 4.85705968e-005\n",
       ", x: 0.373055309\n",
       "y: 2.73293161\n",
       "z: 0.53504622\n",
       "visibility: 1.41283117e-005\n",
       ", x: 0.577841878\n",
       "y: 2.80492401\n",
       "z: 0.109553635\n",
       "visibility: 7.99661939e-005\n",
       ", x: 0.413590819\n",
       "y: 2.79405904\n",
       "z: -0.120882466\n",
       "visibility: 4.62608405e-005\n",
       "]"
      ]
     },
     "execution_count": 13,
     "metadata": {},
     "output_type": "execute_result"
    }
   ],
   "source": [
    "result.pose_landmarks.landmark"
   ]
  },
  {
   "cell_type": "code",
   "execution_count": 14,
   "id": "a8f74c39",
   "metadata": {
    "scrolled": true
   },
   "outputs": [
    {
     "data": {
      "text/plain": [
       "33"
      ]
     },
     "execution_count": 14,
     "metadata": {},
     "output_type": "execute_result"
    }
   ],
   "source": [
    "len(result.pose_landmarks.landmark)"
   ]
  },
  {
   "cell_type": "code",
   "execution_count": 15,
   "id": "a0d638bd",
   "metadata": {},
   "outputs": [
    {
     "data": {
      "text/plain": [
       "frozenset({(0, 1),\n",
       "           (0, 4),\n",
       "           (1, 2),\n",
       "           (2, 3),\n",
       "           (3, 7),\n",
       "           (4, 5),\n",
       "           (5, 6),\n",
       "           (6, 8),\n",
       "           (9, 10),\n",
       "           (11, 12),\n",
       "           (11, 13),\n",
       "           (11, 23),\n",
       "           (12, 14),\n",
       "           (12, 24),\n",
       "           (13, 15),\n",
       "           (14, 16),\n",
       "           (15, 17),\n",
       "           (15, 19),\n",
       "           (15, 21),\n",
       "           (16, 18),\n",
       "           (16, 20),\n",
       "           (16, 22),\n",
       "           (17, 19),\n",
       "           (18, 20),\n",
       "           (23, 24),\n",
       "           (23, 25),\n",
       "           (24, 26),\n",
       "           (25, 27),\n",
       "           (26, 28),\n",
       "           (27, 29),\n",
       "           (27, 31),\n",
       "           (28, 30),\n",
       "           (28, 32),\n",
       "           (29, 31),\n",
       "           (30, 32)})"
      ]
     },
     "execution_count": 15,
     "metadata": {},
     "output_type": "execute_result"
    }
   ],
   "source": [
    "mp_pose.POSE_CONNECTIONS"
   ]
  },
  {
   "cell_type": "code",
   "execution_count": 16,
   "id": "5f5b684e",
   "metadata": {},
   "outputs": [
    {
     "data": {
      "text/plain": [
       "<enum 'PoseLandmark'>"
      ]
     },
     "execution_count": 16,
     "metadata": {},
     "output_type": "execute_result"
    }
   ],
   "source": [
    "mp_pose.PoseLandmark"
   ]
  },
  {
   "cell_type": "code",
   "execution_count": 17,
   "id": "928bfe3e",
   "metadata": {},
   "outputs": [
    {
     "data": {
      "text/plain": [
       "[<PoseLandmark.NOSE: 0>,\n",
       " <PoseLandmark.LEFT_EYE_INNER: 1>,\n",
       " <PoseLandmark.LEFT_EYE: 2>,\n",
       " <PoseLandmark.LEFT_EYE_OUTER: 3>,\n",
       " <PoseLandmark.RIGHT_EYE_INNER: 4>,\n",
       " <PoseLandmark.RIGHT_EYE: 5>,\n",
       " <PoseLandmark.RIGHT_EYE_OUTER: 6>,\n",
       " <PoseLandmark.LEFT_EAR: 7>,\n",
       " <PoseLandmark.RIGHT_EAR: 8>,\n",
       " <PoseLandmark.MOUTH_LEFT: 9>,\n",
       " <PoseLandmark.MOUTH_RIGHT: 10>,\n",
       " <PoseLandmark.LEFT_SHOULDER: 11>,\n",
       " <PoseLandmark.RIGHT_SHOULDER: 12>,\n",
       " <PoseLandmark.LEFT_ELBOW: 13>,\n",
       " <PoseLandmark.RIGHT_ELBOW: 14>,\n",
       " <PoseLandmark.LEFT_WRIST: 15>,\n",
       " <PoseLandmark.RIGHT_WRIST: 16>,\n",
       " <PoseLandmark.LEFT_PINKY: 17>,\n",
       " <PoseLandmark.RIGHT_PINKY: 18>,\n",
       " <PoseLandmark.LEFT_INDEX: 19>,\n",
       " <PoseLandmark.RIGHT_INDEX: 20>,\n",
       " <PoseLandmark.LEFT_THUMB: 21>,\n",
       " <PoseLandmark.RIGHT_THUMB: 22>,\n",
       " <PoseLandmark.LEFT_HIP: 23>,\n",
       " <PoseLandmark.RIGHT_HIP: 24>,\n",
       " <PoseLandmark.LEFT_KNEE: 25>,\n",
       " <PoseLandmark.RIGHT_KNEE: 26>,\n",
       " <PoseLandmark.LEFT_ANKLE: 27>,\n",
       " <PoseLandmark.RIGHT_ANKLE: 28>,\n",
       " <PoseLandmark.LEFT_HEEL: 29>,\n",
       " <PoseLandmark.RIGHT_HEEL: 30>,\n",
       " <PoseLandmark.LEFT_FOOT_INDEX: 31>,\n",
       " <PoseLandmark.RIGHT_FOOT_INDEX: 32>]"
      ]
     },
     "execution_count": 17,
     "metadata": {},
     "output_type": "execute_result"
    }
   ],
   "source": [
    "list(mp_pose.PoseLandmark)"
   ]
  },
  {
   "cell_type": "code",
   "execution_count": 18,
   "id": "1dd1b7d2",
   "metadata": {},
   "outputs": [
    {
     "data": {
      "text/plain": [
       "12"
      ]
     },
     "execution_count": 18,
     "metadata": {},
     "output_type": "execute_result"
    }
   ],
   "source": [
    "mp_pose.PoseLandmark.RIGHT_SHOULDER.value"
   ]
  },
  {
   "cell_type": "code",
   "execution_count": 19,
   "id": "eb66fac6",
   "metadata": {},
   "outputs": [
    {
     "data": {
      "text/plain": [
       "x: 0.293478072\n",
       "y: 0.823098838\n",
       "z: -0.454533398\n",
       "visibility: 0.999299109"
      ]
     },
     "execution_count": 19,
     "metadata": {},
     "output_type": "execute_result"
    }
   ],
   "source": [
    "#cordinates of right shoulder\n",
    "result.pose_landmarks.landmark[mp_pose.PoseLandmark.RIGHT_SHOULDER.value]"
   ]
  },
  {
   "cell_type": "code",
   "execution_count": 20,
   "id": "008dbb08",
   "metadata": {},
   "outputs": [
    {
     "data": {
      "text/plain": [
       "x: 0.239263862\n",
       "y: 1.22074282\n",
       "z: -0.441876352\n",
       "visibility: 0.31213516"
      ]
     },
     "execution_count": 20,
     "metadata": {},
     "output_type": "execute_result"
    }
   ],
   "source": [
    "#cordinates of right elbow\n",
    "result.pose_landmarks.landmark[mp_pose.PoseLandmark.RIGHT_ELBOW.value]"
   ]
  },
  {
   "cell_type": "code",
   "execution_count": 21,
   "id": "8bc01ccc",
   "metadata": {},
   "outputs": [
    {
     "data": {
      "text/plain": [
       "x: 0.247318119\n",
       "y: 1.52641475\n",
       "z: -1.005059\n",
       "visibility: 0.152590662"
      ]
     },
     "execution_count": 21,
     "metadata": {},
     "output_type": "execute_result"
    }
   ],
   "source": [
    "#cordinates of right wrist\n",
    "result.pose_landmarks.landmark[mp_pose.PoseLandmark.RIGHT_WRIST.value]"
   ]
  },
  {
   "cell_type": "code",
   "execution_count": 22,
   "id": "49c71f45",
   "metadata": {},
   "outputs": [
    {
     "data": {
      "text/plain": [
       "0.2934780716896057"
      ]
     },
     "execution_count": 22,
     "metadata": {},
     "output_type": "execute_result"
    }
   ],
   "source": [
    "result.pose_landmarks.landmark[mp_pose.PoseLandmark.RIGHT_SHOULDER.value].x"
   ]
  },
  {
   "cell_type": "code",
   "execution_count": 23,
   "id": "dad38799",
   "metadata": {},
   "outputs": [
    {
     "data": {
      "text/plain": [
       "0.8230988383293152"
      ]
     },
     "execution_count": 23,
     "metadata": {},
     "output_type": "execute_result"
    }
   ],
   "source": [
    "result.pose_landmarks.landmark[mp_pose.PoseLandmark.RIGHT_SHOULDER.value].y"
   ]
  },
  {
   "cell_type": "code",
   "execution_count": 24,
   "id": "245fcb55",
   "metadata": {},
   "outputs": [],
   "source": [
    "shoulder=[landmarks[mp_pose.PoseLandmark.RIGHT_SHOULDER.value].x,\n",
    "                               landmarks[mp_pose.PoseLandmark.RIGHT_SHOULDER.value].y]\n",
    "elbow=[landmarks[mp_pose.PoseLandmark.RIGHT_ELBOW.value].x,\n",
    "                               landmarks[mp_pose.PoseLandmark.RIGHT_ELBOW.value].y]\n",
    "wrist=[landmarks[mp_pose.PoseLandmark.RIGHT_WRIST.value].x,\n",
    "                               landmarks[mp_pose.PoseLandmark.RIGHT_WRIST.value].y]"
   ]
  },
  {
   "cell_type": "code",
   "execution_count": 25,
   "id": "f9562a83",
   "metadata": {
    "scrolled": true
   },
   "outputs": [
    {
     "data": {
      "text/plain": [
       "([0.2934780716896057, 0.8230988383293152],\n",
       " [0.2392638623714447, 1.2207428216934204],\n",
       " [0.2473181188106537, 1.5264147520065308])"
      ]
     },
     "execution_count": 25,
     "metadata": {},
     "output_type": "execute_result"
    }
   ],
   "source": [
    "shoulder,elbow,wrist"
   ]
  },
  {
   "cell_type": "code",
   "execution_count": 26,
   "id": "93bf4c5a",
   "metadata": {},
   "outputs": [],
   "source": [
    "def calculate_angle(a,b,c):\n",
    "    a=np.array(a)\n",
    "    b=np.array(b)\n",
    "    c=np.array(c)\n",
    "    \n",
    "    radians=np.arctan2(c[1]-b[1],c[0]-b[0])-np.arctan2(a[1]-b[1],a[0]-b[0])\n",
    "    angle=np.round(np.abs((radians*180.0)/np.pi))\n",
    "    \n",
    "    return angle\n",
    "    \n",
    "    "
   ]
  },
  {
   "cell_type": "code",
   "execution_count": 27,
   "id": "e11b0d7d",
   "metadata": {},
   "outputs": [
    {
     "data": {
      "text/plain": [
       "171.0"
      ]
     },
     "execution_count": 27,
     "metadata": {},
     "output_type": "execute_result"
    }
   ],
   "source": [
    "angle = calculate_angle(shoulder,elbow,wrist)\n",
    "angle"
   ]
  },
  {
   "cell_type": "code",
   "execution_count": 28,
   "id": "3ba698c4",
   "metadata": {},
   "outputs": [],
   "source": [
    "# make detections\n",
    "cap=cv2.VideoCapture(0)\n",
    "with mp_pose.Pose(min_detection_confidence=0.5,min_tracking_confidence=0.5) as pose:\n",
    "    while True:\n",
    "        ret,frame=cap.read()\n",
    "        \n",
    "        #make detection\n",
    "        result=pose.process(frame)\n",
    "        \n",
    "        try:\n",
    "            landmarks=result.pose_landmarks.landmark\n",
    "\n",
    "            shoulder=[landmarks[mp_pose.PoseLandmark.RIGHT_SHOULDER.value].x,\n",
    "                               landmarks[mp_pose.PoseLandmark.RIGHT_SHOULDER.value].y]\n",
    "            \n",
    "            elbow=[landmarks[mp_pose.PoseLandmark.RIGHT_ELBOW.value].x,\n",
    "                               landmarks[mp_pose.PoseLandmark.RIGHT_ELBOW.value].y]\n",
    "\n",
    "            wrist=[landmarks[mp_pose.PoseLandmark.RIGHT_WRIST.value].x,\n",
    "                               landmarks[mp_pose.PoseLandmark.RIGHT_WRIST.value].y]\n",
    "\n",
    "            angle=calculate_angle(shoulder,elbow,wrist)\n",
    "            \n",
    "            cv2.putText(frame,str(angle), (50, 50), cv2.FONT_HERSHEY_COMPLEX, 1, (0,255,0), 2)\n",
    "            \n",
    "        except:\n",
    "            pass\n",
    "        \n",
    "        mp_drawing.draw_landmarks(frame,result.pose_landmarks,mp_pose.POSE_CONNECTIONS,\n",
    "                                 mp_drawing.DrawingSpec(color=(200,100,10),thickness=2,circle_radius=2),\n",
    "                                 mp_drawing.DrawingSpec(color=(100,250,50),thickness=2,circle_radius=2))\n",
    "        \n",
    "        cv2.imshow(\"Video Feed\", frame)\n",
    "        if cv2.waitKey(10) & 0xFF == ord('q'):\n",
    "            break\n",
    "\n",
    "    cap.release()\n",
    "    cv2.destroyAllWindows()    "
   ]
  },
  {
   "cell_type": "code",
   "execution_count": null,
   "id": "3be60e32",
   "metadata": {},
   "outputs": [
    {
     "name": "stdout",
     "output_type": "stream",
     "text": [
      "1\n",
      "2\n",
      "3\n"
     ]
    }
   ],
   "source": [
    "# Included curl counting code\n",
    "cap=cv2.VideoCapture(0)\n",
    "counter = 0\n",
    "pos = \"\"\n",
    "with mp_pose.Pose(min_detection_confidence=0.5,min_tracking_confidence=0.5) as pose:\n",
    "    while True:\n",
    "        ret,frame=cap.read()\n",
    "        \n",
    "        #make detection\n",
    "        result=pose.process(frame)\n",
    "        \n",
    "        #print(result)\n",
    "        try:\n",
    "            landmarks=result.pose_landmarks.landmark\n",
    "\n",
    "            shoulder=[landmarks[mp_pose.PoseLandmark.RIGHT_SHOULDER.value].x,\n",
    "                               landmarks[mp_pose.PoseLandmark.RIGHT_SHOULDER.value].y]\n",
    "            #print(\"shoulder-\",shoulder)\n",
    "            elbow=[landmarks[mp_pose.PoseLandmark.RIGHT_ELBOW.value].x,\n",
    "                               landmarks[mp_pose.PoseLandmark.RIGHT_ELBOW.value].y]\n",
    "\n",
    "            wrist=[landmarks[mp_pose.PoseLandmark.RIGHT_WRIST.value].x,\n",
    "                               landmarks[mp_pose.PoseLandmark.RIGHT_WRIST.value].y]\n",
    "\n",
    "            angle=calculate_angle(shoulder,elbow,wrist)\n",
    "            \n",
    "            cv2.putText(frame,str(angle), (50, 50), cv2.FONT_HERSHEY_COMPLEX, 1, (0,255,0), 2)\n",
    "            # curl counter\n",
    "            if angle > 150:\n",
    "                pos = \"down\"\n",
    "            if angle < 40 and pos ==\"down\":\n",
    "                pos = \"up\"\n",
    "                counter = counter+1\n",
    "                print(counter)\n",
    "            \n",
    "        except:\n",
    "            pass\n",
    "        \n",
    "        mp_drawing.draw_landmarks(frame,result.pose_landmarks,mp_pose.POSE_CONNECTIONS,\n",
    "                                 mp_drawing.DrawingSpec(color=(250,100,50),thickness=2,circle_radius=2),\n",
    "                                 mp_drawing.DrawingSpec(color=(100,250,50),thickness=2,circle_radius=2))\n",
    "        \n",
    "        cv2.imshow(\"Video Feed\", frame)\n",
    "        if cv2.waitKey(10) & 0xFF == ord('q'):\n",
    "            break\n",
    "\n",
    "    cap.release()\n",
    "    cv2.destroyAllWindows()    "
   ]
  },
  {
   "cell_type": "code",
   "execution_count": null,
   "id": "9157d30b",
   "metadata": {},
   "outputs": [],
   "source": []
  }
 ],
 "metadata": {
  "kernelspec": {
   "display_name": "Python 3 (ipykernel)",
   "language": "python",
   "name": "python3"
  },
  "language_info": {
   "codemirror_mode": {
    "name": "ipython",
    "version": 3
   },
   "file_extension": ".py",
   "mimetype": "text/x-python",
   "name": "python",
   "nbconvert_exporter": "python",
   "pygments_lexer": "ipython3",
   "version": "3.12.4"
  }
 },
 "nbformat": 4,
 "nbformat_minor": 5
}
